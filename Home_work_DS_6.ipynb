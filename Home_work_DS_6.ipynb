{
 "cells": [
  {
   "cell_type": "code",
   "execution_count": 152,
   "metadata": {},
   "outputs": [],
   "source": [
    "import numpy as np\n",
    "import pandas as pd\n",
    "from pathlib import Path\n",
    "from sklearn.linear_model import LinearRegression"
   ]
  },
  {
   "cell_type": "code",
   "execution_count": 153,
   "metadata": {},
   "outputs": [],
   "source": [
    "def regr_hyp(X,theta):\n",
    "    return np.dot(X,theta)"
   ]
  },
  {
   "cell_type": "code",
   "execution_count": 154,
   "metadata": {},
   "outputs": [],
   "source": [
    "import numpy as np\n",
    "def compute_loss(X, y, theta):\n",
    "    m = len(y)  \n",
    "    predictions = np.dot(X, theta)  \n",
    "    error = predictions - y \n",
    "    cost = (1 / (2 * m)) * np.dot(error.T, error)  \n",
    "    return cost"
   ]
  },
  {
   "cell_type": "code",
   "execution_count": 155,
   "metadata": {},
   "outputs": [],
   "source": [
    "import numpy as np\n",
    "def gradient_descent_step(X, y, theta, alpha):\n",
    "    m = len(y)  \n",
    "    predictions = np.dot(X, theta) \n",
    "    error = predictions - y \n",
    "    gradient = (1/m) * np.dot(X.T, error)  \n",
    "    theta_updated = theta - alpha * gradient \n",
    "    return theta_updated\n"
   ]
  },
  {
   "cell_type": "code",
   "execution_count": 156,
   "metadata": {},
   "outputs": [
    {
     "name": "stdout",
     "output_type": "stream",
     "text": [
      "[0. 0. 0. 0.]\n"
     ]
    }
   ],
   "source": [
    "path_to_table = Path(\"Housing.csv\")\n",
    "table = pd.read_csv(path_to_table.absolute())\n",
    "X = np.column_stack((table[\"area\"],table[\"bedrooms\"],table[\"bathrooms\"]))\n",
    "y = np.array(table[\"price\"])\n",
    "X = np.column_stack((np.ones(X.shape[0]), X))\n",
    "theta = np.zeros(X.shape[1])\n",
    "print(theta)"
   ]
  },
  {
   "cell_type": "code",
   "execution_count": 157,
   "metadata": {},
   "outputs": [],
   "source": [
    "def gradient_step(X, y, theta, alpha):\n",
    "    m = len(y)  \n",
    "    predictions = np.dot(X, theta)  \n",
    "    error = predictions - y \n",
    "    gradient = (1 / m) * np.dot(X.T, error) \n",
    "    theta = theta - alpha * gradient  \n",
    "    return theta\n"
   ]
  },
  {
   "cell_type": "code",
   "execution_count": 158,
   "metadata": {},
   "outputs": [
    {
     "name": "stdout",
     "output_type": "stream",
     "text": [
      "Оптимізовані параметри (theta): [  1.93791902 855.70518203   7.2391595    4.02339035]\n"
     ]
    }
   ],
   "source": [
    "def train_model(X, y, theta, alpha, num_iterations):\n",
    "    for i in range(num_iterations):\n",
    "        theta = gradient_step(X, y, theta, alpha)\n",
    "    return theta\n",
    "alpha = 0.00000001  \n",
    "num_iterations = 500\n",
    "theta_optimized = train_model(X, y, theta, alpha, num_iterations)\n",
    "print(\"Оптимізовані параметри (theta):\", theta_optimized)\n"
   ]
  },
  {
   "cell_type": "code",
   "execution_count": 159,
   "metadata": {},
   "outputs": [
    {
     "name": "stdout",
     "output_type": "stream",
     "text": [
      "[-1.73171608e+05  3.78762754e+02  4.06820034e+05  1.38604950e+06]\n"
     ]
    }
   ],
   "source": [
    "X_T = X.T\n",
    "theta_analytical = np.linalg.inv(X_T @ X) @ X_T @ y\n",
    "print(theta_analytical)"
   ]
  },
  {
   "cell_type": "code",
   "execution_count": 160,
   "metadata": {},
   "outputs": [
    {
     "name": "stdout",
     "output_type": "stream",
     "text": [
      "Оптимізовані параметри (scikit-learn): [-1.73171608e+05  3.78762754e+02  4.06820034e+05  1.38604950e+06]\n"
     ]
    }
   ],
   "source": [
    "model = LinearRegression(fit_intercept=False)\n",
    "model.fit(X, y)\n",
    "theta_sklearn = model.coef_\n",
    "print(\"Оптимізовані параметри (scikit-learn):\", theta_sklearn)\n"
   ]
  },
  {
   "cell_type": "code",
   "execution_count": 163,
   "metadata": {},
   "outputs": [
    {
     "name": "stdout",
     "output_type": "stream",
     "text": [
      "Різниця між аналітичними параметрами та scikit-learn: [7.65430741e-09 9.09494702e-13 4.13274392e-09 3.72529030e-09]\n",
      "Різниця між аналітичними параметрами та scikit-learn: [1.73173546e+05 4.76942428e+02 4.06812795e+05 1.38604547e+06]\n",
      "Різниця між аналітичними параметрами та scikit-learn: [1.73173546e+05 4.76942428e+02 4.06812795e+05 1.38604547e+06]\n"
     ]
    }
   ],
   "source": [
    "difference = np.abs(theta_analytical - theta_sklearn)\n",
    "difference_1 = np.abs(theta_optimized - theta_sklearn)\n",
    "difference_2 = np.abs(theta_optimized - theta_analytical)\n",
    "print(\"Різниця між аналітичними параметрами та scikit-learn:\", difference)\n",
    "print(\"Різниця між аналітичними параметрами та scikit-learn:\", difference_1)\n",
    "print(\"Різниця між аналітичними параметрами та scikit-learn:\", difference_2)"
   ]
  }
 ],
 "metadata": {
  "kernelspec": {
   "display_name": "Python 3",
   "language": "python",
   "name": "python3"
  },
  "language_info": {
   "codemirror_mode": {
    "name": "ipython",
    "version": 3
   },
   "file_extension": ".py",
   "mimetype": "text/x-python",
   "name": "python",
   "nbconvert_exporter": "python",
   "pygments_lexer": "ipython3",
   "version": "3.11.9"
  }
 },
 "nbformat": 4,
 "nbformat_minor": 2
}
